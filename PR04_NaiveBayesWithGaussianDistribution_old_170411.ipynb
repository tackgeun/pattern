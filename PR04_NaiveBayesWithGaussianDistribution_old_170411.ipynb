{
 "cells": [
  {
   "cell_type": "code",
   "execution_count": 13,
   "metadata": {
    "collapsed": false,
    "deletable": true,
    "editable": true
   },
   "outputs": [],
   "source": [
    "%matplotlib inline\n",
    "import numpy as np\n",
    "import matplotlib.pyplot as plt\n",
    "\n",
    "from matplotlib import cm\n",
    "from mpl_toolkits.mplot3d import Axes3D #library for 3D-plot"
   ]
  },
  {
   "cell_type": "markdown",
   "metadata": {
    "deletable": true,
    "editable": true
   },
   "source": [
    "## Bayesian decision theory와 Classification (분류)"
   ]
  },
  {
   "cell_type": "markdown",
   "metadata": {},
   "source": [
    "#### Bayes' rule"
   ]
  },
  {
   "cell_type": "markdown",
   "metadata": {},
   "source": [
    "$P( \\omega_j | x ) = \\frac{p(x | \\omega_j) P(\\omega_j)}{p(x)} = \\frac{p(x | \\omega_j) P(\\omega_j)}{\\sum_{k}{p(x|\\omega_k)P(\\omega_k)}}$"
   ]
  },
  {
   "cell_type": "markdown",
   "metadata": {
    "deletable": true,
    "editable": true
   },
   "source": [
    "Bayesian decision theory는 분류(classification) 문제에 있어서 에러의 확률 $P(error) = \\int{p(error, \\mathbf{x}) d\\mathbf{x}} = \\int{p(error | \\mathbf{x}) p(\\mathbf{x}) d\\mathbf{x}}$ 을 낮추기 위해서 어떤 선택을 해야되는지에 대한 확률적인 해법을 제시한다."
   ]
  },
  {
   "cell_type": "markdown",
   "metadata": {
    "deletable": true,
    "editable": true
   },
   "source": [
    "### [Exercise 1] Naive Bayes with 1D Gaussian distribution"
   ]
  },
  {
   "cell_type": "markdown",
   "metadata": {
    "deletable": true,
    "editable": true
   },
   "source": [
    "1차원 정규 분포 함수 \n",
    "- $f(x; \\mu, \\sigma) = \\frac{1}{\\sqrt{2 \\pi \\sigma^2}}e^{ -\\frac{(x-\\mu)^2}{2 \\sigma^2}} $ "
   ]
  },
  {
   "cell_type": "code",
   "execution_count": 14,
   "metadata": {
    "collapsed": true,
    "deletable": true,
    "editable": true
   },
   "outputs": [],
   "source": [
    "# probability density function for 1D gaussian distribution\n",
    "def gaussian_pdf(x, mu, sigma):\n",
    "    # implement here\n",
    "    x_whitened = (x-mu)/sigma\n",
    "    return (np.exp(-(x_whitened**2)/2))/(np.sqrt(2*np.pi)*sigma)"
   ]
  },
  {
   "cell_type": "markdown",
   "metadata": {
    "deletable": true,
    "editable": true
   },
   "source": [
    "아래의 1차원 정규 분포를 시각화\n",
    "\n",
    "- $x_1 \\sim \\mathcal{N}(\\mu = 0, \\sigma = 1)$\n",
    "\n",
    "- $x_2 \\sim \\mathcal{N}(\\mu = 4, \\sigma = 1)$"
   ]
  },
  {
   "cell_type": "markdown",
   "metadata": {
    "deletable": true,
    "editable": true
   },
   "source": [
    "아래 방정식을 만족하는 $x$는?\n",
    "\n",
    "- $f(x; 0, 1) = f(x; 4, 1)$"
   ]
  },
  {
   "cell_type": "code",
   "execution_count": 39,
   "metadata": {
    "collapsed": false,
    "deletable": true,
    "editable": true
   },
   "outputs": [
    {
     "data": {
      "image/png": "[encoded data removed]",
      "text/plain": [
       "<matplotlib.figure.Figure at 0x7f29b599af90>"
      ]
     },
     "metadata": {},
     "output_type": "display_data"
    }
   ],
   "source": [
    "xMin = -5\n",
    "xMax = 10\n",
    "xStepSize = 0.01\n",
    "xVal = np.arange(xMin,xMax,xStepSize)\n",
    "\n",
    "mu1 = 0\n",
    "sigma1 = 1\n",
    "\n",
    "mu2 = 4\n",
    "sigma2 = 1\n",
    "\n",
    "pdf1 = gaussian_pdf(xVal, mu1, sigma1)\n",
    "pdf2 = gaussian_pdf(xVal, mu2, sigma2)\n",
    "\n",
    "plt.figure(figsize=(10,3))\n",
    "plt.plot(xVal, pdf1, color='red')\n",
    "plt.plot(xVal, pdf2, color='blue')\n",
    "plt.plot(xVal, (pdf1 > pdf2), color='black')\n",
    "plt.show()"
   ]
  },
  {
   "cell_type": "markdown",
   "metadata": {
    "deletable": true,
    "editable": true
   },
   "source": [
    "아래의 1차원 정규 분포를 시각화\n",
    "\n",
    "- $x_1 \\sim \\mathcal{N}(\\mu = 0, \\sigma = 1)$\n",
    "\n",
    "- $x_2 \\sim \\mathcal{N}(\\mu = 4, \\sigma = 3)$"
   ]
  },
  {
   "cell_type": "markdown",
   "metadata": {
    "deletable": true,
    "editable": true
   },
   "source": [
    "아래 방정식을 만족하는 $x$는?\n",
    "\n",
    "- $f(x; 0, 1) = f(x; 4, 3)$"
   ]
  },
  {
   "cell_type": "code",
   "execution_count": 40,
   "metadata": {
    "collapsed": false,
    "deletable": true,
    "editable": true
   },
   "outputs": [
    {
     "data": {
      "image/png": "[encoded data removed]",
      "text/plain": [
       "<matplotlib.figure.Figure at 0x7f29b7796850>"
      ]
     },
     "metadata": {},
     "output_type": "display_data"
    }
   ],
   "source": [
    "xMin = -10\n",
    "xMax = 12\n",
    "xStepSize = 0.01\n",
    "xVal = np.arange(xMin,xMax,xStepSize)\n",
    "\n",
    "mu1 = 0\n",
    "sigma1 = 1\n",
    "\n",
    "mu2 = 4\n",
    "sigma2 = 3\n",
    "\n",
    "pdf1 = gaussian_pdf(xVal, mu1, sigma1)\n",
    "pdf2 = gaussian_pdf(xVal, mu2, sigma2)\n",
    "\n",
    "plt.figure(figsize=(10,3))\n",
    "plt.plot(xVal, pdf1, color='red')\n",
    "plt.plot(xVal, pdf2, color='blue')\n",
    "plt.plot(xVal, (pdf1 > pdf2), color='black')\n",
    "\n",
    "plt.show()"
   ]
  },
  {
   "cell_type": "markdown",
   "metadata": {
    "deletable": true,
    "editable": true
   },
   "source": [
    "### Multivariate Normal distribution의 covariance의 형태에 따른 decision boundary의 모양"
   ]
  },
  {
   "cell_type": "markdown",
   "metadata": {
    "deletable": true,
    "editable": true
   },
   "source": [
    "2차원의 정규 분포 확률 밀도 함수는 다음과 같다.\n",
    "\n",
    "$f(\\begin{bmatrix}x_1 \\\\ x_2 \\end{bmatrix}) = \\frac{1}{2\\pi \\sqrt{(\\Sigma_{11} \\Sigma_{22} - \\Sigma_{12} \\Sigma_{21})}}$ $exp \\left( -\\frac{1}{2}   \\begin{bmatrix}x_1 - \\mu_1 & x_2 - \\mu_2 \\end{bmatrix} \\begin{bmatrix} \\Sigma_{11} & \\Sigma_{12} \\\\ \\Sigma_{21} & \\Sigma_{22} \\end{bmatrix}^{-1} \\begin{bmatrix}x_1 - \\mu_1 \\\\ x_2 - \\mu_2 \\end{bmatrix} \\right)$"
   ]
  },
  {
   "cell_type": "code",
   "execution_count": 61,
   "metadata": {
    "collapsed": false,
    "deletable": true,
    "editable": true
   },
   "outputs": [],
   "source": [
    "def visualize_decision_boundary(mu1, mu2, cov1, cov2):\n",
    "    # use 'plt.matshow'\n",
    "    from scipy.stats import multivariate_normal\n",
    "\n",
    "    var1 = multivariate_normal(mean=mu1, cov=cov1)\n",
    "    var2 = multivariate_normal(mean=mu2, cov=cov2)\n",
    "\n",
    "    minVal   = -10\n",
    "    maxVal   = 10\n",
    "    stepSize = 0.05\n",
    "    xAxisVal = np.arange(minVal, maxVal, stepSize)\n",
    "    yAxisVal = np.arange(minVal, maxVal, stepSize)\n",
    "    xx, yy = np.meshgrid(xAxisVal, yAxisVal)\n",
    "\n",
    "    surf = plt.matshow(var1.pdf(np.stack([xx,yy], 2))>var2.pdf(np.stack([xx,yy], 2)), cmap=cm.coolwarm)\n",
    "    plt.colorbar(shrink=0.5, aspect=3)"
   ]
  },
  {
   "cell_type": "markdown",
   "metadata": {},
   "source": [
    "#### (1) $\\Sigma_i = \\sigma^2 I$ Identity Matrix에 상수가 곱해져있는 형태"
   ]
  },
  {
   "cell_type": "code",
   "execution_count": 62,
   "metadata": {
    "collapsed": false
   },
   "outputs": [
    {
     "data": {
      "image/png": "[encoded data removed]",
      "text/plain": [
       "<matplotlib.figure.Figure at 0x7f29b7e06110>"
      ]
     },
     "metadata": {},
     "output_type": "display_data"
    }
   ],
   "source": [
    "mu1 = np.array([0,0])\n",
    "mu2 = np.array([-4,4])\n",
    "sigma = 2\n",
    "cov = (sigma*sigma) * np.eye(2) # Identity matrix\n",
    "\n",
    "visualize_decision_boundary(mu1, mu2, cov, cov)"
   ]
  },
  {
   "cell_type": "markdown",
   "metadata": {},
   "source": [
    "#### (2) $\\Sigma_i = \\Sigma$"
   ]
  },
  {
   "cell_type": "code",
   "execution_count": 63,
   "metadata": {
    "collapsed": false,
    "deletable": true,
    "editable": true
   },
   "outputs": [
    {
     "data": {
      "image/png": "[encoded data removed]",
      "text/plain": [
       "<matplotlib.figure.Figure at 0x7f29b463d1d0>"
      ]
     },
     "metadata": {},
     "output_type": "display_data"
    }
   ],
   "source": [
    "mu1 = np.array([0,0])\n",
    "mu2 = np.array([-1,4])\n",
    "cov = np.array([[2, 1], [0, 5]])\n",
    "\n",
    "visualize_decision_boundary(mu1, mu2, cov, cov)"
   ]
  },
  {
   "cell_type": "markdown",
   "metadata": {},
   "source": [
    "#### (3) $\\Sigma_i = $ arbitrary (positive-semi definite matrix)"
   ]
  },
  {
   "cell_type": "code",
   "execution_count": 64,
   "metadata": {
    "collapsed": false
   },
   "outputs": [
    {
     "data": {
      "image/png": "[encoded data removed]",
      "text/plain": [
       "<matplotlib.figure.Figure at 0x7f29b446ff10>"
      ]
     },
     "metadata": {},
     "output_type": "display_data"
    }
   ],
   "source": [
    "mu1 = np.array([0,0])\n",
    "mu2 = np.array([0,4])\n",
    "cov1 = np.array([[2, 1], [0, 5]])\n",
    "cov2 = np.array([[1, 0], [0, 5]])\n",
    "\n",
    "visualize_decision_boundary(mu1, mu2, cov1, cov2)"
   ]
  }
 ],
 "metadata": {
  "kernelspec": {
   "display_name": "Python 2",
   "language": "python",
   "name": "python2"
  },
  "language_info": {
   "codemirror_mode": {
    "name": "ipython",
    "version": 2
   },
   "file_extension": ".py",
   "mimetype": "text/x-python",
   "name": "python",
   "nbconvert_exporter": "python",
   "pygments_lexer": "ipython2",
   "version": "2.7.6"
  }
 },
 "nbformat": 4,
 "nbformat_minor": 2
}
