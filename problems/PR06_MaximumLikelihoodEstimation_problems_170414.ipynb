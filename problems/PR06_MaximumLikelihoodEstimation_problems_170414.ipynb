{
 "cells": [
  {
   "cell_type": "code",
   "execution_count": 1,
   "metadata": {
    "collapsed": true,
    "deletable": true,
    "editable": true
   },
   "outputs": [],
   "source": [
    "%matplotlib inline\n",
    "import numpy as np\n",
    "import matplotlib.pyplot as plt"
   ]
  },
  {
   "cell_type": "markdown",
   "metadata": {
    "deletable": true,
    "editable": true
   },
   "source": [
    "### Maximum Likelihood Estimation (MLE)"
   ]
  },
  {
   "cell_type": "markdown",
   "metadata": {
    "deletable": true,
    "editable": true
   },
   "source": [
    "data(observation)이 주어졌을때 model의 parameter를 찾는 방법\n",
    "$\\rightarrow$ observation의 likelihood를 maximize하는 parameter를 찾는다"
   ]
  },
  {
   "cell_type": "markdown",
   "metadata": {
    "deletable": true,
    "editable": true
   },
   "source": [
    "모든 data들은 $p(\\mathbf{x}|\\boldsymbol{\\theta})$의 pdf를 가지는 모집단으로부터 추출한 iid (independent and identically distributed) sample이고 이들의 likelihood function은 다음과 같다"
   ]
  },
  {
   "cell_type": "markdown",
   "metadata": {
    "deletable": true,
    "editable": true
   },
   "source": [
    "### likelihood function : $L(\\boldsymbol{\\theta}|D)=L(\\theta_1,\\dots,\\theta_k|\\mathbf{x}_1,\\dots,\\mathbf{x}_n)=p(D|\\boldsymbol{\\theta})=\\Pi^n_{i=1} p(\\mathbf{x}_i|\\boldsymbol{\\theta})$"
   ]
  },
  {
   "cell_type": "markdown",
   "metadata": {
    "deletable": true,
    "editable": true
   },
   "source": [
    "where $D=\\{\\mathbf{x}_1,\\dots \\mathbf{x}_n\\}$, $\\boldsymbol{\\theta}$ is the parameters to be estimated."
   ]
  },
  {
   "cell_type": "markdown",
   "metadata": {
    "deletable": true,
    "editable": true
   },
   "source": [
    "### 따라서 MLE는 $p(D|\\boldsymbol{\\theta})$를 maximize하는 $\\hat{\\boldsymbol{\\theta}}$를 찾는 것"
   ]
  },
  {
   "cell_type": "markdown",
   "metadata": {
    "deletable": true,
    "editable": true
   },
   "source": [
    "### $\\rightarrow  \\hat{\\boldsymbol{\\theta}}=\\arg\\max_\\boldsymbol{\\theta} p(D|\\boldsymbol{\\theta})$ "
   ]
  },
  {
   "cell_type": "markdown",
   "metadata": {
    "deletable": true,
    "editable": true
   },
   "source": [
    "$L(\\boldsymbol{\\theta})$를 maximizing하는 것은 $\\ln L(\\boldsymbol{\\theta})$를 maximizing하는 것과 동일"
   ]
  },
  {
   "cell_type": "markdown",
   "metadata": {
    "deletable": true,
    "editable": true
   },
   "source": [
    "또는,  $\\ln L(\\boldsymbol{\\theta})$를 maximizing하는 것은  negative log-likelihood(NLL) = $-\\ln L(\\boldsymbol{\\theta})$를 minimizing하는 것과 동일"
   ]
  },
  {
   "cell_type": "markdown",
   "metadata": {
    "deletable": true,
    "editable": true
   },
   "source": [
    "### $l(\\boldsymbol{\\theta}) =\\sum^n_{k=1} \\ln p(\\mathbf{x}_k|\\boldsymbol{\\theta})$\n",
    "### $\\nabla_\\theta l(\\boldsymbol{\\theta}) =\\sum^n_{k=1}\\nabla_\\theta \\ln p(\\mathbf{x}_k|\\boldsymbol{\\theta})=0$"
   ]
  },
  {
   "cell_type": "markdown",
   "metadata": {
    "deletable": true,
    "editable": true
   },
   "source": [
    "### $\\rightarrow$ 위 식을 만족하는 $\\hat{\\boldsymbol{\\theta}}$를 찾는다"
   ]
  },
  {
   "cell_type": "markdown",
   "metadata": {
    "deletable": true,
    "editable": true
   },
   "source": [
    "### [Exercise 1] - methods for estimating parameters"
   ]
  },
  {
   "cell_type": "markdown",
   "metadata": {
    "collapsed": true,
    "deletable": true,
    "editable": true
   },
   "source": [
    "Maximum likelihood estimation(MLE)를 이용하여 linear model로 fitting하는 연습을 해본다."
   ]
  },
  {
   "cell_type": "code",
   "execution_count": 413,
   "metadata": {
    "collapsed": false,
    "deletable": true,
    "editable": true
   },
   "outputs": [],
   "source": [
    "# Choose the \"true\" parameters.\n",
    "a0_true = 4.294\n",
    "a1_true = -0.9594\n",
    "\n",
    "sigma = 3\n",
    "\n",
    "# Generate some synthetic data from the model.\n",
    "N = 50\n",
    "x = np.sort(10*np.random.rand(N))\n",
    "yerr = 0+ sigma*np.random.randn(N)\n",
    "y = a1_true*x + a0_true\n",
    "y +=yerr\n"
   ]
  },
  {
   "cell_type": "code",
   "execution_count": 414,
   "metadata": {
    "collapsed": false,
    "deletable": true,
    "editable": true
   },
   "outputs": [
    {
     "data": {
      "text/plain": [
       "<matplotlib.text.Text at 0x7f45002bf350>"
      ]
     },
     "execution_count": 414,
     "metadata": {},
     "output_type": "execute_result"
    },
    {
     "data": {
      "image/png": "[encoded data removed]",
      "text/plain": [
       "<matplotlib.figure.Figure at 0x7f45005f6050>"
      ]
     },
     "metadata": {},
     "output_type": "display_data"
    }
   ],
   "source": [
    "xx = np.arange(min(x)-2,max(x)+2)\n",
    "yy = a1_true *xx + a0_true\n",
    "\n",
    "plt.scatter(x, y)\n",
    "plt.plot(xx,yy,'r')\n",
    "plt.xlabel('x')\n",
    "plt.ylabel('y')"
   ]
  },
  {
   "cell_type": "markdown",
   "metadata": {
    "deletable": true,
    "editable": true
   },
   "source": [
    "실제 model은 빨간선으로 나타나있고, model로 부터 얻은 sample들은 파란점으로 나타나있다. 실제 우리가 얻는 데이터는 error $\\epsilon$를 가질 수 있다."
   ]
  },
  {
   "cell_type": "markdown",
   "metadata": {
    "deletable": true,
    "editable": true
   },
   "source": [
    "$\\mathbf{y}=\\mathbf{X}\\mathbf{a} + \\epsilon$"
   ]
  },
  {
   "cell_type": "markdown",
   "metadata": {
    "deletable": true,
    "editable": true
   },
   "source": [
    "$N(\\epsilon_i; 0,\\sigma^2) = \\frac{1}{\\sqrt{2\\pi}\\sigma} \\exp (-\\frac{(y_i-\\mathbf{a}^T\\mathbf{x_i})^2}{2\\sigma^2})=\\frac{1}{\\sqrt{2\\pi}\\sigma} \\exp (-\\frac{(\\mathbf{y}-\\mathbf{X}\\mathbf{a})^2}{2\\sigma^2})$"
   ]
  },
  {
   "cell_type": "code",
   "execution_count": 415,
   "metadata": {
    "collapsed": false,
    "deletable": true,
    "editable": true
   },
   "outputs": [
    {
     "data": {
      "text/plain": [
       "<matplotlib.text.Text at 0x7f450015f410>"
      ]
     },
     "execution_count": 415,
     "metadata": {},
     "output_type": "execute_result"
    },
    {
     "data": {
      "image/png": "[encoded data removed]",
      "text/plain": [
       "<matplotlib.figure.Figure at 0x7f450020e750>"
      ]
     },
     "metadata": {},
     "output_type": "display_data"
    }
   ],
   "source": [
    "plt.scatter(x, y)\n",
    "plt.xlabel('x')\n",
    "plt.ylabel('y')"
   ]
  },
  {
   "cell_type": "markdown",
   "metadata": {
    "deletable": true,
    "editable": true
   },
   "source": [
    "우리가 실제 model을 모른다고 가정했을때, sample들만 가지고 실제 model을 예측해보려 한다."
   ]
  },
  {
   "cell_type": "markdown",
   "metadata": {
    "deletable": true,
    "editable": true
   },
   "source": [
    "### --- Maximum Likelihood Estimator ($\\mathbf{a}$) --- Linear Least Square Estimator"
   ]
  },
  {
   "cell_type": "markdown",
   "metadata": {
    "deletable": true,
    "editable": true
   },
   "source": [
    "가장 쉬운 방법은 linear least square 를 이용하는 것이다. $\\rightarrow$  $y=a_1x+a_0 $ line의 coefficient $a_0,a_1$을 찾는 것"
   ]
  },
  {
   "cell_type": "markdown",
   "metadata": {
    "deletable": true,
    "editable": true
   },
   "source": [
    "NLL$(\\boldsymbol{\\theta})= -\\sum_{i=1}^N \\ln p(y_i|\\mathbf{x}_i,\\boldsymbol{\\theta})$ =  $-\\sum_{i=1}^N \\ln [(\\frac{1}{\\sqrt{2\\pi}\\sigma}) \\exp (-{\\frac{(y_i - \\mathbf{a}^T\\mathbf{x}_i)^2}{2\\sigma^2}})]$ = $-\\sum_{i=1}^N \\ln (\\frac{1}{\\sqrt{2\\pi}\\sigma}) - ({\\frac{(y_i - \\mathbf{a}^T\\mathbf{x}_i)^2}{2\\sigma^2}})$"
   ]
  },
  {
   "cell_type": "markdown",
   "metadata": {
    "deletable": true,
    "editable": true
   },
   "source": [
    "= $\\frac{N}{2}\\ln ({2\\pi\\sigma^2}) +\\frac{1}{{2\\sigma^2}}\\sum_{i=1}^N {{(y_i - \\mathbf{a}^T\\mathbf{x}_i)^2}}$ =  $\\frac{N}{2}\\ln ({2\\pi\\sigma^2}) +\\frac{1}{{2\\sigma^2}}R(\\mathbf{a})$"
   ]
  },
  {
   "cell_type": "markdown",
   "metadata": {
    "deletable": true,
    "editable": true
   },
   "source": [
    "$R(\\mathbf{a}) = \\sum \\|y_i - \\hat{y_i}\\|^2 = \\sum \\|y_i - (a_1x_i+a_0))\\|^2$"
   ]
  },
  {
   "cell_type": "markdown",
   "metadata": {
    "deletable": true,
    "editable": true
   },
   "source": [
    "### $\\mathbf{y}= \\mathbf{X}\\mathbf{a} \\rightarrow \\hat{\\mathbf{a}}=\\arg\\min_\\mathbf{a} \\|\\mathbf{y}-\\mathbf{X}\\mathbf{a}\\|^2 $"
   ]
  },
  {
   "cell_type": "markdown",
   "metadata": {
    "deletable": true,
    "editable": true
   },
   "source": [
    "$R(\\mathbf{a}) = (\\mathbf{y}-\\mathbf{X}\\mathbf{a})^T (\\mathbf{y}-\\mathbf{X}\\mathbf{a})$ \n",
    "$=(\\mathbf{y}^T-\\mathbf{a}^T\\mathbf{X}^T) (\\mathbf{y}-\\mathbf{X}\\mathbf{a})$\n",
    "$=\\mathbf{y}^T\\mathbf{y}-2\\mathbf{y}^T\\mathbf{X}\\mathbf{a}  + \\mathbf{y}^T\\mathbf{X}^T\\mathbf{X}\\mathbf{y}$"
   ]
  },
  {
   "cell_type": "markdown",
   "metadata": {
    "deletable": true,
    "editable": true
   },
   "source": [
    "$\\frac{\\partial R(\\mathbf{a})}{\\partial \\mathbf{a}}=\\frac{\\partial}{\\partial \\mathbf{a}}=\\mathbf{y}^T\\mathbf{y}-2\\mathbf{y}^T\\mathbf{X}\\mathbf{a}  + \\mathbf{y}^T\\mathbf{X}^T\\mathbf{X}\\mathbf{y}$ \n",
    "$=-2\\mathbf{X}^T\\mathbf{y} + 2\\mathbf{X}^T\\mathbf{X}\\mathbf{a}=0$"
   ]
  },
  {
   "cell_type": "markdown",
   "metadata": {
    "deletable": true,
    "editable": true
   },
   "source": [
    "### 따라서 linear least square loss를 이용하여 찾은 parameter $\\mathbf{a}$는 \n",
    "###  $ \\mathbf{a} = (\\mathbf{X}^T\\mathbf{X})^{-1} \\mathbf{X}^T\\mathbf{y}$ "
   ]
  },
  {
   "cell_type": "code",
   "execution_count": 416,
   "metadata": {
    "collapsed": false,
    "deletable": true,
    "editable": true
   },
   "outputs": [
    {
     "name": "stdout",
     "output_type": "stream",
     "text": [
      "(-1.1056112049154476, 4.8982051420303234)\n"
     ]
    }
   ],
   "source": [
    "X = np.vstack((np.ones_like(x),x)).T\n",
    "\n",
    "# 위의 식을 한번 작성해보세요\n",
    "#a = \n",
    "\n",
    "a0_est_ls = a[0]\n",
    "a1_est_ls = a[1]\n",
    "print(a1_est_ls, a0_est_ls)"
   ]
  },
  {
   "cell_type": "code",
   "execution_count": 417,
   "metadata": {
    "collapsed": false,
    "deletable": true,
    "editable": true
   },
   "outputs": [
    {
     "data": {
      "text/plain": [
       "<matplotlib.text.Text at 0x7f4500102090>"
      ]
     },
     "execution_count": 417,
     "metadata": {},
     "output_type": "execute_result"
    },
    {
     "data": {
      "image/png": "[encoded data removed]",
      "text/plain": [
       "<matplotlib.figure.Figure at 0x7f4500074090>"
      ]
     },
     "metadata": {},
     "output_type": "display_data"
    }
   ],
   "source": [
    "xxls = np.arange(min(x)-2,max(x)+2)\n",
    "yyls = a1_est_ls *xxls + a0_est_ls\n",
    "\n",
    "plt.scatter(x, y)\n",
    "plt.plot(xxls,yyls,'g')\n",
    "plt.plot(xx,yy,'r')\n",
    "plt.xlabel('x')\n",
    "plt.ylabel('y')"
   ]
  },
  {
   "cell_type": "markdown",
   "metadata": {
    "deletable": true,
    "editable": true
   },
   "source": [
    "### --- Maximum Likelihood Estimator ($\\sigma$)"
   ]
  },
  {
   "cell_type": "markdown",
   "metadata": {
    "deletable": true,
    "editable": true
   },
   "source": [
    "NLL$(\\boldsymbol{\\theta})=-\\frac{N}{2}\\ln (\\frac{1}{2\\pi\\sigma^2}) +\\frac{1}{{2\\sigma^2}}\\sum_{i=1}^N {{(y_i - \\mathbf{a}^T\\mathbf{x}_i)^2}}$ =  $\\frac{N}{2}\\ln ({2\\pi\\sigma^2}) +\\frac{1}{{2\\sigma^2}}R(\\mathbf{a})$"
   ]
  },
  {
   "cell_type": "markdown",
   "metadata": {
    "deletable": true,
    "editable": true
   },
   "source": [
    "$\\frac{\\partial}{\\partial\\sigma^2}$NLL$(\\boldsymbol{\\theta})= \\frac{\\partial}{\\partial\\sigma^2}(\\frac{N}{2}\\ln ({2\\pi\\sigma^2}) +\\frac{1}{{2\\sigma^2}}R(\\mathbf{a})) =\\frac{N}{2\\sigma^2} -\\frac{1}{{2\\sigma^4}}R(\\mathbf{a}) =0$"
   ]
  },
  {
   "cell_type": "markdown",
   "metadata": {
    "deletable": true,
    "editable": true
   },
   "source": [
    " $\\hat{\\sigma}^2=\\frac{1}{N}(\\mathbf{y}-\\mathbf{X}\\mathbf{a})^T (\\mathbf{y}-\\mathbf{X}\\mathbf{a})$ = $\\frac{N-2}{N}$MSE"
   ]
  },
  {
   "cell_type": "code",
   "execution_count": null,
   "metadata": {
    "collapsed": true,
    "deletable": true,
    "editable": true
   },
   "outputs": [],
   "source": []
  },
  {
   "cell_type": "markdown",
   "metadata": {
    "deletable": true,
    "editable": true
   },
   "source": [
    "## Maximum likelihood estimation using gradient-based optimization"
   ]
  },
  {
   "cell_type": "code",
   "execution_count": 418,
   "metadata": {
    "collapsed": true,
    "deletable": true,
    "editable": true
   },
   "outputs": [],
   "source": [
    "#   define a function to calculate the negative log likelihood\n",
    "def calcLogLikelihood(guess, true, n):\n",
    "    error = true-guess\n",
    "    sigma = (np.matmul(error.T,error))/n\n",
    "        \n",
    "    # negative log likelihood 식을 한번 작성해보세요\n",
    "    nlogf =\n",
    "\n",
    "    return nlogf"
   ]
  },
  {
   "cell_type": "code",
   "execution_count": 419,
   "metadata": {
    "collapsed": false,
    "deletable": true,
    "editable": true
   },
   "outputs": [],
   "source": [
    "#   define my function which will return the objective function to be minimized\n",
    "def myFunction(var,x,y):\n",
    "    yGuess = (var[1]*x) + var[0]\n",
    "    f = calcLogLikelihood(yGuess, y, float(len(yGuess)))\n",
    "    return (f)"
   ]
  },
  {
   "cell_type": "code",
   "execution_count": 420,
   "metadata": {
    "collapsed": false,
    "deletable": true,
    "editable": true
   },
   "outputs": [
    {
     "name": "stdout",
     "output_type": "stream",
     "text": [
      "Optimization terminated successfully.\n",
      "         Current function value: -3.338300\n",
      "         Iterations: 9\n",
      "         Function evaluations: 60\n",
      "         Gradient evaluations: 15\n",
      "(4.8982051602195522, -1.1056112335960759)\n"
     ]
    },
    {
     "data": {
      "text/plain": [
       "<matplotlib.text.Text at 0x7f44fff8c210>"
      ]
     },
     "execution_count": 420,
     "metadata": {},
     "output_type": "execute_result"
    },
    {
     "data": {
      "image/png": "[encoded data removed]",
      "text/plain": [
       "<matplotlib.figure.Figure at 0x7f450037a390>"
      ]
     },
     "metadata": {},
     "output_type": "display_data"
    }
   ],
   "source": [
    "nvar = 2\n",
    "var = np.zeros(nvar)\n",
    "var[0] = 1.5\n",
    "var[1] = -1.8\n",
    "\n",
    "X = np.vstack((np.ones_like(x),x)).T\n",
    "\n",
    "#   let's maximize the likelihood (minimize -1*max(likelihood)\n",
    "from scipy.optimize import minimize\n",
    "res = minimize(myFunction, var, args=(x,y), method='BFGS', options={'disp': True})\n",
    "a0_est_mle, a1_est_mle = res[\"x\"]\n",
    "print(a0_est_mle ,a1_est_mle)\n",
    "\n",
    "xxmle = np.arange(min(x)-3,max(x)+3)\n",
    "yymle = a1_est_mle *xxmle + a0_est_mle\n",
    "\n",
    "plt.scatter(x, y)\n",
    "plt.plot(xxmle,yymle,'b--')\n",
    "plt.plot(xxls,yyls,'g')\n",
    "plt.plot(xx,yy,'r')\n",
    "plt.xlabel('x')\n",
    "plt.ylabel('y')"
   ]
  },
  {
   "cell_type": "code",
   "execution_count": null,
   "metadata": {
    "collapsed": true,
    "deletable": true,
    "editable": true
   },
   "outputs": [],
   "source": []
  },
  {
   "cell_type": "markdown",
   "metadata": {
    "deletable": true,
    "editable": true
   },
   "source": [
    "### [Exercise 2] - methods for estimating parameters"
   ]
  },
  {
   "cell_type": "markdown",
   "metadata": {
    "collapsed": true,
    "deletable": true,
    "editable": true
   },
   "source": [
    "$a_2x^2 + a_1x +a_0=y$"
   ]
  },
  {
   "cell_type": "code",
   "execution_count": 425,
   "metadata": {
    "collapsed": false,
    "deletable": true,
    "editable": true
   },
   "outputs": [],
   "source": [
    "# Choose the \"true\" parameters.\n",
    "a2_true = 1.243\n",
    "a1_true = -0.9594\n",
    "a0_true = 4.294\n",
    "\n",
    "\n",
    "sigma = 10\n",
    "\n",
    "# Generate some synthetic data from the model.\n",
    "N = 100\n",
    "x = np.sort(10*np.random.rand(N))\n",
    "yerr = 0+ sigma*np.random.randn(N)\n",
    "y = a2_true*x**2 + a1_true*x + a0_true\n",
    "y +=yerr\n"
   ]
  },
  {
   "cell_type": "code",
   "execution_count": 426,
   "metadata": {
    "collapsed": false,
    "deletable": true,
    "editable": true
   },
   "outputs": [
    {
     "data": {
      "text/plain": [
       "<matplotlib.text.Text at 0x7f44ffd7fd90>"
      ]
     },
     "execution_count": 426,
     "metadata": {},
     "output_type": "execute_result"
    },
    {
     "data": {
      "image/png": "[encoded data removed]",
      "text/plain": [
       "<matplotlib.figure.Figure at 0x7f44ffd96cd0>"
      ]
     },
     "metadata": {},
     "output_type": "display_data"
    }
   ],
   "source": [
    "xx = np.arange(min(x)-2,max(x)+2)\n",
    "yy = a2_true*xx**2 + a1_true*xx + a0_true\n",
    "\n",
    "plt.scatter(x, y)\n",
    "plt.plot(xx,yy,'r')\n",
    "plt.xlabel('x')\n",
    "plt.ylabel('y')"
   ]
  },
  {
   "cell_type": "markdown",
   "metadata": {
    "deletable": true,
    "editable": true
   },
   "source": [
    "### 1) least square estimation 방법 이용"
   ]
  },
  {
   "cell_type": "code",
   "execution_count": 432,
   "metadata": {
    "collapsed": false,
    "deletable": true,
    "editable": true
   },
   "outputs": [
    {
     "name": "stdout",
     "output_type": "stream",
     "text": [
      "(1.5499409305608547, -3.9880536200429746, 8.8939605779393176)\n"
     ]
    }
   ],
   "source": [
    "X = \n",
    "\n",
    "a = \n",
    "\n",
    "a0_est_ls = a[0]\n",
    "a1_est_ls = a[1]\n",
    "a2_est_ls = a[2]\n",
    "print(a2_est_ls, a1_est_ls, a0_est_ls)"
   ]
  },
  {
   "cell_type": "code",
   "execution_count": 433,
   "metadata": {
    "collapsed": false,
    "deletable": true,
    "editable": true
   },
   "outputs": [
    {
     "data": {
      "text/plain": [
       "<matplotlib.text.Text at 0x7f44ffb85110>"
      ]
     },
     "execution_count": 433,
     "metadata": {},
     "output_type": "execute_result"
    },
    {
     "data": {
      "image/png": "[encoded data removed]",
      "text/plain": [
       "<matplotlib.figure.Figure at 0x7f44ffc59150>"
      ]
     },
     "metadata": {},
     "output_type": "display_data"
    }
   ],
   "source": [
    "xxls = \n",
    "yyls = \n",
    "\n",
    "plt.scatter(x, y)\n",
    "plt.plot(xxls,yyls,'g')\n",
    "plt.plot(xx,yy,'r')\n",
    "plt.xlabel('x')\n",
    "plt.ylabel('y')"
   ]
  },
  {
   "cell_type": "markdown",
   "metadata": {
    "deletable": true,
    "editable": true
   },
   "source": [
    "### 2) MLE (gradient descent) 방법 이용"
   ]
  },
  {
   "cell_type": "code",
   "execution_count": 440,
   "metadata": {
    "collapsed": true,
    "deletable": true,
    "editable": true
   },
   "outputs": [],
   "source": [
    "#   define a function to calculate the negative log likelihood\n",
    "def calcLogLikelihood(guess, true, n):\n",
    "    error = true-guess\n",
    "    sigma = (np.matmul(error.T,error))/n\n",
    "        \n",
    "    nlogf = \n",
    "\n",
    "    return nlogf"
   ]
  },
  {
   "cell_type": "code",
   "execution_count": 441,
   "metadata": {
    "collapsed": true,
    "deletable": true,
    "editable": true
   },
   "outputs": [],
   "source": [
    "#   define my function which will return the objective function to be minimized\n",
    "def myFunction(var,x,y):\n",
    "    yGuess = \n",
    "    f = calcLogLikelihood(yGuess, y, float(len(yGuess)))\n",
    "    return (f)"
   ]
  },
  {
   "cell_type": "code",
   "execution_count": 442,
   "metadata": {
    "collapsed": false,
    "deletable": true,
    "editable": true
   },
   "outputs": [
    {
     "name": "stdout",
     "output_type": "stream",
     "text": [
      "Optimization terminated successfully.\n",
      "         Current function value: -0.508490\n",
      "         Iterations: 18\n",
      "         Function evaluations: 155\n",
      "         Gradient evaluations: 31\n",
      "(8.8940744353413468, -3.9880289618952487, 1.549935815947024)\n"
     ]
    },
    {
     "data": {
      "text/plain": [
       "<matplotlib.text.Text at 0x7f44ffad5590>"
      ]
     },
     "execution_count": 442,
     "metadata": {},
     "output_type": "execute_result"
    },
    {
     "data": {
      "image/png": "[encoded data removed]",
      "text/plain": [
       "<matplotlib.figure.Figure at 0x7f44ffb61790>"
      ]
     },
     "metadata": {},
     "output_type": "display_data"
    }
   ],
   "source": [
    "nvar = 3\n",
    "var = np.zeros(nvar)\n",
    "var[0] = 1.5\n",
    "var[1] = -1.8\n",
    "var[2] = 0.2\n",
    "\n",
    "X = \n",
    "\n",
    "#   let's maximize the likelihood (minimize -1*max(likelihood)\n",
    "from scipy.optimize import minimize\n",
    "res = minimize(myFunction, var, args=(x,y), method='BFGS', options={'disp': True})\n",
    "a0_est_mle, a1_est_mle, a2_est_mle= res[\"x\"]\n",
    "print(a0_est_mle ,a1_est_mle, a2_est_mle)\n",
    "\n",
    "xxmle = \n",
    "yymle = \n",
    "\n",
    "plt.scatter(x, y)\n",
    "plt.plot(xxmle,yymle,'b--')\n",
    "plt.plot(xxls,yyls,'g')\n",
    "plt.plot(xx,yy,'r')\n",
    "plt.xlabel('x')\n",
    "plt.ylabel('y')"
   ]
  },
  {
   "cell_type": "code",
   "execution_count": null,
   "metadata": {
    "collapsed": true,
    "deletable": true,
    "editable": true
   },
   "outputs": [],
   "source": []
  }
 ],
 "metadata": {
  "kernelspec": {
   "display_name": "Python 2",
   "language": "python",
   "name": "python2"
  },
  "language_info": {
   "codemirror_mode": {
    "name": "ipython",
    "version": 2
   },
   "file_extension": ".py",
   "mimetype": "text/x-python",
   "name": "python",
   "nbconvert_exporter": "python",
   "pygments_lexer": "ipython2",
   "version": "2.7.6"
  }
 },
 "nbformat": 4,
 "nbformat_minor": 2
}
