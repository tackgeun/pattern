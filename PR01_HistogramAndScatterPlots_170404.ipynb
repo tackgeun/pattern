{
 "cells": [
  {
   "cell_type": "markdown",
   "metadata": {
    "deletable": true,
    "editable": true
   },
   "source": [
    "### Load matplotlib and numpy"
   ]
  },
  {
   "cell_type": "code",
   "execution_count": 1,
   "metadata": {
    "collapsed": true,
    "deletable": true,
    "editable": true
   },
   "outputs": [],
   "source": [
    "%matplotlib inline "
   ]
  },
  {
   "cell_type": "markdown",
   "metadata": {
    "deletable": true,
    "editable": true
   },
   "source": [
    "jupyter notebook에서 matplotlib의 그림을 brower에서 보기 위한 명령어. python이 아니라 jupyter에 명령을 하기 위해서는 %를 앞에 붙이고 명령어를 타이핑\n"
   ]
  },
  {
   "cell_type": "code",
   "execution_count": 2,
   "metadata": {
    "collapsed": false,
    "deletable": true,
    "editable": true
   },
   "outputs": [],
   "source": [
    "import numpy as np\n",
    "import matplotlib.pyplot as plt"
   ]
  },
  {
   "cell_type": "markdown",
   "metadata": {
    "deletable": true,
    "editable": true
   },
   "source": [
    "### [Exercise 1-1] 히스토그램(Histogram) 함수을 이용한 정규 분포(Normal distribution) 혹은 가우스 분포(Gaussian distribution)의 시각화"
   ]
  },
  {
   "cell_type": "markdown",
   "metadata": {
    "deletable": true,
    "editable": true
   },
   "source": [
    "히스토그램(Histogram)은 구간을 나누고, 구간 내부의 있는 표본의 갯수를 나타내주는 그림이다. 본 예제에서는 정규 분포에서 표본을 얻어서 히스토그램을 그려본다.\n",
    "  - 라이브러리 함수 설명 http://matplotlib.org/api/pyplot_api.html?highlight=hist#matplotlib.pyplot.hist"
   ]
  },
  {
   "cell_type": "markdown",
   "metadata": {
    "deletable": true,
    "editable": true
   },
   "source": [
    "평균 $\\mu$ 표준편차 $\\sigma$를 갖는 정규분포에서 얻은 랜덤 표본 $x_i$는 다음과 같이 나타낸다. $x_i \\sim \\mathcal{N}(\\mu, \\sigma)$\n",
    "\n",
    "- 평균 $\\mu$ 표준편차 $\\sigma$를 갖는 정규 분포 확률 밀도 함수(probability density function)  $f(x) = \\frac{1}{\\sqrt{2\\pi \\sigma^2}} e^{-\\frac{(x-\\mu)^2}{2 \\sigma^2}}$\n",
    "\n",
    "- 표준 정규 분포의 확률 밀도 함수는 정규 분포의 parameter를 $\\sigma=1$, $\\mu = 0$으로 정하면 된다. $f(x) = \\frac{1}{\\sqrt{2\\pi}} e^{-\\frac{x^2}{2}}$"
   ]
  },
  {
   "cell_type": "markdown",
   "metadata": {
    "deletable": true,
    "editable": true
   },
   "source": [
    "numpy에서 제공해주는 random.randn 함수는 표준 정규 분포(standard normal distribution)에서 랜덤 표본(random sample)을 얻는 함수이다.\n",
    "\n",
    "   - https://docs.scipy.org/doc/numpy/reference/generated/numpy.random.randn.html\n",
    "\n",
    "numpy에서 제공해주는 random.normal 함수는 표준 정규 분포(standard normal distribution)에서 랜덤 표본(random sample)을 얻는 함수이다.\n",
    "\n",
    "   - https://docs.scipy.org/doc/numpy/reference/generated/numpy.random.normal.html "
   ]
  },
  {
   "cell_type": "code",
   "execution_count": 3,
   "metadata": {
    "collapsed": false,
    "deletable": true,
    "editable": true
   },
   "outputs": [
    {
     "data": {
      "image/png": "[encoded data removed]",
      "text/plain": [
       "<matplotlib.figure.Figure at 0x7f5e9fd48250>"
      ]
     },
     "metadata": {},
     "output_type": "display_data"
    },
    {
     "data": {
      "image/png": "[encoded data removed]",
      "text/plain": [
       "<matplotlib.figure.Figure at 0x7f5e9f891f10>"
      ]
     },
     "metadata": {},
     "output_type": "display_data"
    },
    {
     "data": {
      "image/png": "[encoded data removed]",
      "text/plain": [
       "<matplotlib.figure.Figure at 0x7f5e9f682f90>"
      ]
     },
     "metadata": {},
     "output_type": "display_data"
    }
   ],
   "source": [
    "# [exercise 1] Using 'hist' function\n",
    "# to draw a histogram from normal distribution\n",
    "N_samples = 10000\n",
    "\n",
    "# mean = 100, standard deviation 20\n",
    "sigma1 = 20\n",
    "mu1 = 100\n",
    "x1 = np.random.randn(N_samples)*sigma1 + mu1\n",
    "n, bins, patches = plt.hist(x1, 50)\n",
    "plt.show()\n",
    "\n",
    "# mean = 100, standard deviation = 5\n",
    "# from standard normal distribution\n",
    "sigma2 = 5\n",
    "mu2 = 100\n",
    "x2 = np.random.randn(N_samples)*sigma2 + mu2\n",
    "n, bins, patches = plt.hist(x2, 50)\n",
    "plt.show()\n",
    "\n",
    "# mean = 100, standard deviation = 5\n",
    "sigma3 = 5\n",
    "mu3 = 100\n",
    "x3 = np.random.normal(loc=mu3, scale=sigma3, size=N_samples)\n",
    "n, bins, patches = plt.hist(x3, 50)\n",
    "plt.show()"
   ]
  },
  {
   "cell_type": "markdown",
   "metadata": {
    "deletable": true,
    "editable": true
   },
   "source": [
    "### [Exercise 1-2] Bar plot을 이용하여 직접 히스토그램을 작성"
   ]
  },
  {
   "cell_type": "code",
   "execution_count": 4,
   "metadata": {
    "collapsed": false,
    "deletable": true,
    "editable": true
   },
   "outputs": [
    {
     "data": {
      "image/png": "[encoded data removed]",
      "text/plain": [
       "<matplotlib.figure.Figure at 0x7f5e9f60dbd0>"
      ]
     },
     "metadata": {},
     "output_type": "display_data"
    }
   ],
   "source": [
    "# [exercise 2] Draw histogram using bar\n",
    "epsilon = 1e-8\n",
    "\n",
    "# extract samples from normal distribution\n",
    "N_samples = 10000\n",
    "sigma = 5\n",
    "mu = 100\n",
    "x = np.random.normal(loc=mu, scale=sigma, size=N_samples)\n",
    "\n",
    "numBins = 50\n",
    "\n",
    "# count samples in each bin\n",
    "maxval = max(x) + epsilon\n",
    "minval = min(x)\n",
    "step = numBins/(maxval-minval)\n",
    "hist = np.zeros((numBins,1))\n",
    "n = x.size\n",
    "\n",
    "for i in range(0,n):\n",
    "  val = (x[i]-minval)*step\n",
    "  val = val.astype(int)\n",
    "  hist[val] = hist[val] + 1\n",
    "\n",
    "# plot using bar\n",
    "plt.bar(np.linspace(minval,maxval,numBins),hist)\n",
    "plt.show()"
   ]
  },
  {
   "cell_type": "markdown",
   "metadata": {
    "deletable": true,
    "editable": true
   },
   "source": [
    "### [Exercise 2] Scatter plot을 이용한 2차원 데이터 시각화"
   ]
  },
  {
   "cell_type": "markdown",
   "metadata": {
    "deletable": true,
    "editable": true
   },
   "source": [
    "random.multivariate_normal 함수로 다변수 정규 분포(multivariate normal distribution)에서도 표본을 얻을 수 있다.\n",
    "\n",
    "이번 예시는 이렇게 얻은 표본을 scatter 함수를 이용해서 시각화한다."
   ]
  },
  {
   "cell_type": "markdown",
   "metadata": {
    "deletable": true,
    "editable": true
   },
   "source": [
    "아래 코드는 다음과 같은 평균(mean, $\\mu$)와 공분산(Covariance, $\\Sigma$)를 갖는 다변수 정규 분포(multivariate normal distribution)를 시각화한 코드이다.\n",
    "\n",
    "$g1 \\sim \\mathcal{N}\\left(\\mu=(0, 0), \\Sigma=\\begin{bmatrix}1 & 0 \\\\ 0 & 1 \\end{bmatrix}\\right)$\n",
    "\n",
    "$g2 \\sim \\mathcal{N}\\left(\\mu=(20, 20), \\Sigma=\\begin{bmatrix}1 & 0 \\\\ 0 & 10 \\end{bmatrix}\\right)$\n",
    "\n",
    "$g3 \\sim \\mathcal{N}\\left(\\mu=(40, 40), \\Sigma=\\begin{bmatrix}10 & 0 \\\\ 0 & 10 \\end{bmatrix}\\right)$"
   ]
  },
  {
   "cell_type": "code",
   "execution_count": 5,
   "metadata": {
    "collapsed": false,
    "deletable": true,
    "editable": true
   },
   "outputs": [
    {
     "name": "stderr",
     "output_type": "stream",
     "text": [
      "/usr/local/lib/python2.7/dist-packages/matplotlib/collections.py:590: FutureWarning: elementwise comparison failed; returning scalar instead, but in the future will perform elementwise comparison\n",
      "  if self._edgecolors == str('face'):\n"
     ]
    },
    {
     "data": {
      "image/png": "[encoded data removed]",
      "text/plain": [
       "<matplotlib.figure.Figure at 0x7f5e9f695f10>"
      ]
     },
     "metadata": {},
     "output_type": "display_data"
    }
   ],
   "source": [
    "# scatter plot with groups\n",
    "# Create data\n",
    "\n",
    "N = 1000\n",
    "g1 = np.random.multivariate_normal(mean=np.array([0.0, 0.0]), cov=np.array([[1,0],[0,1]]),size=N)\n",
    "g2 = np.random.multivariate_normal(mean=np.array([20.0, 20.0]), cov=np.array([[1,0],[0,10]]),size=N)\n",
    "g3 = np.random.multivariate_normal(mean=np.array([40.0, 40.0]), cov=np.array([[10,0],[0,10]]),size=N)\n",
    "data = (g1, g2, g3)\n",
    "\n",
    "colors = (\"red\", \"green\", \"blue\")\n",
    "groups = (\"g1\", \"g2\", \"g3\") \n",
    "\n",
    "# Create plot\n",
    "fig = plt.figure()\n",
    "for data, color, group in zip(data, colors, groups):\n",
    "    x = data[0:, 0]\n",
    "    y = data[0:, 1]\n",
    "    plt.scatter(x, y, alpha=0.2, c=color, edgecolors='none', s=5, label=group)\n",
    "\n",
    "plt.title('2-D normal distribution')\n",
    "plt.legend(loc=2)\n",
    "plt.show()"
   ]
  },
  {
   "cell_type": "markdown",
   "metadata": {
    "deletable": true,
    "editable": true
   },
   "source": [
    "### 연습 시간에 나왔던 질문들에 대한 답"
   ]
  },
  {
   "cell_type": "markdown",
   "metadata": {
    "deletable": true,
    "editable": true
   },
   "source": [
    "#### 질문 1: [Exercise 2]에서 zip이라는 함수는 무엇을 해주는 문법인가요?"
   ]
  },
  {
   "cell_type": "markdown",
   "metadata": {
    "deletable": true,
    "editable": true
   },
   "source": [
    "답: 주어진 동일한 길이의 순서형 데이터를 순서대로 tuple 형태로 묶어서 리스트로 반환해주는 함수입니다."
   ]
  },
  {
   "cell_type": "code",
   "execution_count": 6,
   "metadata": {
    "collapsed": false,
    "deletable": true,
    "editable": true
   },
   "outputs": [
    {
     "name": "stdout",
     "output_type": "stream",
     "text": [
      "[(1, 4, 7), (2, 5, 8), (3, 6, 9)]\n"
     ]
    }
   ],
   "source": [
    "a = [1, 2, 3]\n",
    "b = [4, 5, 6]\n",
    "c = [7, 8, 9]\n",
    "print(zip(a,b,c))"
   ]
  },
  {
   "cell_type": "code",
   "execution_count": 7,
   "metadata": {
    "collapsed": false,
    "deletable": true,
    "editable": true
   },
   "outputs": [
    {
     "name": "stdout",
     "output_type": "stream",
     "text": [
      "[('abc', 4, [1]), ('efg', 5, [2]), ('hij', 6, [3])]\n"
     ]
    }
   ],
   "source": [
    "a = ('abc', 'efg', 'hij')\n",
    "b = (4, 5, 6)\n",
    "c = ([1], [2], [3])\n",
    "print(zip(a,b,c))"
   ]
  },
  {
   "cell_type": "markdown",
   "metadata": {
    "deletable": true,
    "editable": true
   },
   "source": [
    "#### 질문 2: [Exercise 2]에서 Scatter 함수의 인자 (parameter)가 의미하는 것은 무엇인가요?\n",
    "\n",
    "답: 구글에서 적당한 키워드로 검색하셔서 라이브러리 문서를 찾아보시면 확인하실 수 있습니다.\n",
    "- http://matplotlib.org/api/pyplot_api.html#matplotlib.pyplot.scatter"
   ]
  },
  {
   "cell_type": "markdown",
   "metadata": {
    "deletable": true,
    "editable": true
   },
   "source": [
    "#### 질문 3:  [Exercise 2]에서 plt.figure()는 무슨 일을 하나요?"
   ]
  },
  {
   "cell_type": "markdown",
   "metadata": {
    "deletable": true,
    "editable": true
   },
   "source": [
    "답: matplotlib.pyplot.figure()는 plot을 그리기 위한 객체입니다. 굳이 없어도 그림이 그려지지만, 그림 자체의 특성을 바꾸기 위해서 이를 사용할 수 있습니다."
   ]
  }
 ],
 "metadata": {
  "kernelspec": {
   "display_name": "Python 2",
   "language": "python",
   "name": "python2"
  },
  "language_info": {
   "codemirror_mode": {
    "name": "ipython",
    "version": 2
   },
   "file_extension": ".py",
   "mimetype": "text/x-python",
   "name": "python",
   "nbconvert_exporter": "python",
   "pygments_lexer": "ipython2",
   "version": "2.7.6"
  }
 },
 "nbformat": 4,
 "nbformat_minor": 0
}
