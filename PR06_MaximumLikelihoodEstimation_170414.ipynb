{
 "cells": [
  {
   "cell_type": "code",
   "execution_count": 39,
   "metadata": {
    "collapsed": false,
    "deletable": true,
    "editable": true
   },
   "outputs": [
    {
     "data": {
      "text/plain": [
       "array([[ 1.33333333, -0.66666667],\n",
       "       [-0.66666667,  1.33333333]])"
      ]
     },
     "execution_count": 39,
     "metadata": {},
     "output_type": "execute_result"
    }
   ],
   "source": [
    "import numpy as np\n",
    "np.linalg.inv(np.array([[1, 0.5],[0.5, 1]]))"
   ]
  },
  {
   "cell_type": "code",
   "execution_count": 40,
   "metadata": {
    "collapsed": true,
    "deletable": true,
    "editable": true
   },
   "outputs": [],
   "source": [
    "%matplotlib inline\n",
    "import numpy as np\n",
    "import matplotlib.pyplot as plt"
   ]
  },
  {
   "cell_type": "markdown",
   "metadata": {
    "deletable": true,
    "editable": true
   },
   "source": [
    "### Maximum Likelihood Estimation (MLE)"
   ]
  },
  {
   "cell_type": "markdown",
   "metadata": {
    "deletable": true,
    "editable": true
   },
   "source": [
    "data(observation)이 주어졌을때 model의 parameter를 찾는 방법\n",
    "$\\rightarrow$ observation의 likelihood를 maximize하는 parameter를 찾는다"
   ]
  },
  {
   "cell_type": "markdown",
   "metadata": {
    "deletable": true,
    "editable": true
   },
   "source": [
    "모든 data들은 $p(\\mathbf{x}|\\boldsymbol{\\theta})$의 pdf를 가지는 모집단으로부터 추출한 iid (independent and identically distributed) sample이고 이들의 likelihood function은 다음과 같다"
   ]
  },
  {
   "cell_type": "markdown",
   "metadata": {
    "deletable": true,
    "editable": true
   },
   "source": [
    "### likelihood function : $L(\\boldsymbol{\\theta}|D)=L(\\theta_1,\\dots,\\theta_k|\\mathbf{x}_1,\\dots,\\mathbf{x}_n)=p(D|\\boldsymbol{\\theta})=\\Pi^n_{i=1} p(\\mathbf{x}_i|\\boldsymbol{\\theta})$"
   ]
  },
  {
   "cell_type": "markdown",
   "metadata": {
    "deletable": true,
    "editable": true
   },
   "source": [
    "where $D=\\{\\mathbf{x}_1,\\dots \\mathbf{x}_n\\}$, $\\boldsymbol{\\theta}$ is the parameters to be estimated."
   ]
  },
  {
   "cell_type": "markdown",
   "metadata": {
    "deletable": true,
    "editable": true
   },
   "source": [
    "### 따라서 MLE는 $p(D|\\boldsymbol{\\theta})$를 maximize하는 $\\hat{\\boldsymbol{\\theta}}$를 찾는 것"
   ]
  },
  {
   "cell_type": "markdown",
   "metadata": {
    "deletable": true,
    "editable": true
   },
   "source": [
    "### $\\rightarrow  \\hat{\\boldsymbol{\\theta}}=\\arg\\max_\\boldsymbol{\\theta} p(D|\\boldsymbol{\\theta})$ "
   ]
  },
  {
   "cell_type": "markdown",
   "metadata": {
    "deletable": true,
    "editable": true
   },
   "source": [
    "$L(\\boldsymbol{\\theta})$를 maximizing하는 것은 $\\ln L(\\boldsymbol{\\theta})$를 maximizing하는 것과 동일"
   ]
  },
  {
   "cell_type": "markdown",
   "metadata": {
    "deletable": true,
    "editable": true
   },
   "source": [
    "또는,  $\\ln L(\\boldsymbol{\\theta})$를 maximizing하는 것은  negative log-likelihood(NLL) = $-\\ln L(\\boldsymbol{\\theta})$를 minimizing하는 것과 동일"
   ]
  },
  {
   "cell_type": "markdown",
   "metadata": {
    "deletable": true,
    "editable": true
   },
   "source": [
    "### $l(\\boldsymbol{\\theta}) =\\sum^n_{k=1} \\ln p(\\mathbf{x}_k|\\boldsymbol{\\theta})$\n",
    "### $\\nabla_\\theta l(\\boldsymbol{\\theta}) =\\sum^n_{k=1}\\nabla_\\theta \\ln p(\\mathbf{x}_k|\\boldsymbol{\\theta})=0$"
   ]
  },
  {
   "cell_type": "markdown",
   "metadata": {
    "deletable": true,
    "editable": true
   },
   "source": [
    "### $\\rightarrow$ 위 식을 만족하는 $\\hat{\\boldsymbol{\\theta}}$를 찾는다"
   ]
  },
  {
   "cell_type": "markdown",
   "metadata": {
    "deletable": true,
    "editable": true
   },
   "source": [
    "### [Exercise 1] - methods for estimating parameters"
   ]
  },
  {
   "cell_type": "markdown",
   "metadata": {
    "collapsed": true,
    "deletable": true,
    "editable": true
   },
   "source": [
    "Maximum likelihood estimation(MLE)를 이용하여 linear model로 fitting하는 연습을 해본다."
   ]
  },
  {
   "cell_type": "code",
   "execution_count": 41,
   "metadata": {
    "collapsed": false,
    "deletable": true,
    "editable": true
   },
   "outputs": [],
   "source": [
    "# Choose the \"true\" parameters.\n",
    "a0_true = 4.294\n",
    "a1_true = -0.9594\n",
    "\n",
    "sigma = 3\n",
    "\n",
    "# Generate some synthetic data from the model.\n",
    "N = 50\n",
    "x = (10*np.random.rand(N))\n",
    "yerr = 0+ sigma*np.random.randn(N)\n",
    "y = a1_true*x + a0_true\n",
    "y +=yerr\n"
   ]
  },
  {
   "cell_type": "code",
   "execution_count": 18,
   "metadata": {
    "collapsed": false,
    "deletable": true,
    "editable": true
   },
   "outputs": [
    {
     "data": {
      "text/plain": [
       "<matplotlib.text.Text at 0x7f7be60b2e50>"
      ]
     },
     "execution_count": 18,
     "metadata": {},
     "output_type": "execute_result"
    },
    {
     "data": {
      "image/png": "[encoded data removed]",
      "text/plain": [
       "<matplotlib.figure.Figure at 0x7f7beb8facd0>"
      ]
     },
     "metadata": {},
     "output_type": "display_data"
    }
   ],
   "source": [
    "xx = np.arange(min(x)-2,max(x)+2)\n",
    "yy = a1_true *xx + a0_true\n",
    "\n",
    "plt.scatter(x, y)\n",
    "plt.plot(xx,yy,'r')\n",
    "plt.xlabel('x')\n",
    "plt.ylabel('y')"
   ]
  },
  {
   "cell_type": "markdown",
   "metadata": {
    "deletable": true,
    "editable": true
   },
   "source": [
    "실제 model은 빨간선으로 나타나있고, model로 부터 얻은 sample들은 파란점으로 나타나있다. 실제 우리가 얻는 데이터는 error $\\epsilon$를 가질 수 있다."
   ]
  },
  {
   "cell_type": "markdown",
   "metadata": {
    "deletable": true,
    "editable": true
   },
   "source": [
    "$\\mathbf{y}=\\mathbf{X}\\mathbf{a} + \\epsilon$"
   ]
  },
  {
   "cell_type": "markdown",
   "metadata": {
    "deletable": true,
    "editable": true
   },
   "source": [
    "$N(\\epsilon_i; 0,\\sigma^2) = \\frac{1}{\\sqrt{2\\pi}\\sigma} \\exp (-\\frac{(y_i-\\mathbf{a}^T\\mathbf{x_i})^2}{2\\sigma^2})=\\frac{1}{\\sqrt{2\\pi}\\sigma} \\exp (-\\frac{(\\mathbf{y}-\\mathbf{X}\\mathbf{a})^2}{2\\sigma^2})$"
   ]
  },
  {
   "cell_type": "code",
   "execution_count": null,
   "metadata": {
    "collapsed": true,
    "deletable": true,
    "editable": true
   },
   "outputs": [],
   "source": []
  },
  {
   "cell_type": "code",
   "execution_count": 19,
   "metadata": {
    "collapsed": false,
    "deletable": true,
    "editable": true
   },
   "outputs": [
    {
     "data": {
      "text/plain": [
       "<matplotlib.text.Text at 0x7f7be612c8d0>"
      ]
     },
     "execution_count": 19,
     "metadata": {},
     "output_type": "execute_result"
    },
    {
     "data": {
      "image/png": "[encoded data removed]",
      "text/plain": [
       "<matplotlib.figure.Figure at 0x7f7beb8b1e10>"
      ]
     },
     "metadata": {},
     "output_type": "display_data"
    }
   ],
   "source": [
    "plt.scatter(x, y)\n",
    "plt.xlabel('x')\n",
    "plt.ylabel('y')"
   ]
  },
  {
   "cell_type": "markdown",
   "metadata": {
    "deletable": true,
    "editable": true
   },
   "source": [
    "우리가 실제 model을 모른다고 가정했을때, sample들만 가지고 실제 model을 예측해보려 한다."
   ]
  },
  {
   "cell_type": "markdown",
   "metadata": {
    "deletable": true,
    "editable": true
   },
   "source": [
    "### --- Maximum Likelihood Estimator ($\\mathbf{a}$) --- Linear Least Square Estimator"
   ]
  },
  {
   "cell_type": "markdown",
   "metadata": {
    "deletable": true,
    "editable": true
   },
   "source": [
    "가장 쉬운 방법은 linear least square 를 이용하는 것이다. $\\rightarrow$  $y=a_1x+a_0 $ line의 coefficient $a_0,a_1$을 찾는 것"
   ]
  },
  {
   "cell_type": "markdown",
   "metadata": {
    "deletable": true,
    "editable": true
   },
   "source": [
    "NLL$(\\boldsymbol{\\theta})= -\\sum_{i=1}^N \\ln p(y_i|\\mathbf{x}_i,\\boldsymbol{\\theta})$ =  $-\\sum_{i=1}^N \\ln [(\\frac{1}{\\sqrt{2\\pi}\\sigma}) \\exp (-{\\frac{(y_i - \\mathbf{a}^T\\mathbf{x}_i)^2}{2\\sigma^2}})]$ = $-\\sum_{i=1}^N \\ln (\\frac{1}{\\sqrt{2\\pi}\\sigma}) - ({\\frac{(y_i - \\mathbf{a}^T\\mathbf{x}_i)^2}{2\\sigma^2}})$"
   ]
  },
  {
   "cell_type": "markdown",
   "metadata": {
    "deletable": true,
    "editable": true
   },
   "source": [
    "= $\\frac{N}{2}\\ln ({2\\pi\\sigma^2}) +\\frac{1}{{2\\sigma^2}}\\sum_{i=1}^N {{(y_i - \\mathbf{a}^T\\mathbf{x}_i)^2}}$ = $\\frac{N}{2}\\ln ({2\\pi\\sigma^2}) +\\frac{1}{{2\\sigma^2}}R(\\mathbf{a})$"
   ]
  },
  {
   "cell_type": "markdown",
   "metadata": {
    "deletable": true,
    "editable": true
   },
   "source": [
    "$R(\\mathbf{a}) = \\sum \\|y_i - \\hat{y_i}\\|^2 = \\sum \\|y_i - (a_1x_i+a_0))\\|^2$"
   ]
  },
  {
   "cell_type": "markdown",
   "metadata": {
    "deletable": true,
    "editable": true
   },
   "source": [
    "### $\\mathbf{y}= \\mathbf{X}\\mathbf{a} \\rightarrow \\hat{\\mathbf{a}}=\\arg\\min_\\mathbf{a} \\|\\mathbf{y}-\\mathbf{X}\\mathbf{a}\\|^2 $"
   ]
  },
  {
   "cell_type": "markdown",
   "metadata": {
    "deletable": true,
    "editable": true
   },
   "source": [
    "$R(\\mathbf{a}) = (\\mathbf{y}-\\mathbf{X}\\mathbf{a})^T (\\mathbf{y}-\\mathbf{X}\\mathbf{a})$ \n",
    "$=(\\mathbf{y}^T-\\mathbf{a}^T\\mathbf{X}^T) (\\mathbf{y}-\\mathbf{X}\\mathbf{a})$\n",
    "$=\\mathbf{y}^T\\mathbf{y}-2\\mathbf{y}^T\\mathbf{X}\\mathbf{a}  + \\mathbf{y}^T\\mathbf{X}^T\\mathbf{X}\\mathbf{y}$"
   ]
  },
  {
   "cell_type": "markdown",
   "metadata": {
    "deletable": true,
    "editable": true
   },
   "source": [
    "$\\frac{\\partial R(\\mathbf{a})}{\\partial \\mathbf{a}}=\\frac{\\partial}{\\partial \\mathbf{a}}=\\mathbf{y}^T\\mathbf{y}-2\\mathbf{y}^T\\mathbf{X}\\mathbf{a}  + \\mathbf{y}^T\\mathbf{X}^T\\mathbf{X}\\mathbf{y}$ \n",
    "$=-2\\mathbf{X}^T\\mathbf{y} + 2\\mathbf{X}^T\\mathbf{X}\\mathbf{a}=0$"
   ]
  },
  {
   "cell_type": "markdown",
   "metadata": {
    "deletable": true,
    "editable": true
   },
   "source": [
    "### 따라서 linear least square loss를 이용하여 찾은 parameter $\\mathbf{a}$는 \n",
    "###  $ \\mathbf{a} = (\\mathbf{X}^T\\mathbf{X})^{-1} \\mathbf{X}^T\\mathbf{y}$ "
   ]
  },
  {
   "cell_type": "code",
   "execution_count": 20,
   "metadata": {
    "collapsed": false,
    "deletable": true,
    "editable": true
   },
   "outputs": [
    {
     "name": "stdout",
     "output_type": "stream",
     "text": [
      "(-0.99260333852157978, 3.8088445874971208)\n"
     ]
    }
   ],
   "source": [
    "X = np.vstack((np.ones_like(x),x)).T\n",
    "\n",
    "# 위의 식을 한번 작성해보세요\n",
    "#a = \n",
    "a = np.dot(np.matmul(np.linalg.inv(np.matmul(X.T,X)),X.T),y)\n",
    "\n",
    "\n",
    "a0_est_ls = a[0]\n",
    "a1_est_ls = a[1]\n",
    "print(a1_est_ls, a0_est_ls)"
   ]
  },
  {
   "cell_type": "code",
   "execution_count": 21,
   "metadata": {
    "collapsed": false,
    "deletable": true,
    "editable": true
   },
   "outputs": [
    {
     "data": {
      "text/plain": [
       "<matplotlib.text.Text at 0x7f7be6005b90>"
      ]
     },
     "execution_count": 21,
     "metadata": {},
     "output_type": "execute_result"
    },
    {
     "data": {
      "image/png": "[encoded data removed]",
      "text/plain": [
       "<matplotlib.figure.Figure at 0x7f7be6055d10>"
      ]
     },
     "metadata": {},
     "output_type": "display_data"
    }
   ],
   "source": [
    "xxls = np.arange(min(x)-2,max(x)+2)\n",
    "yyls = a1_est_ls *xxls + a0_est_ls\n",
    "\n",
    "plt.scatter(x, y)\n",
    "plt.plot(xxls,yyls,'g')\n",
    "plt.plot(xx,yy,'r')\n",
    "plt.xlabel('x')\n",
    "plt.ylabel('y')"
   ]
  },
  {
   "cell_type": "markdown",
   "metadata": {
    "deletable": true,
    "editable": true
   },
   "source": [
    "### --- Maximum Likelihood Estimator ($\\sigma$)"
   ]
  },
  {
   "cell_type": "markdown",
   "metadata": {
    "deletable": true,
    "editable": true
   },
   "source": [
    "NLL$(\\boldsymbol{\\theta})=-\\frac{N}{2}\\ln (\\frac{1}{2\\pi\\sigma^2}) +\\frac{1}{{2\\sigma^2}}\\sum_{i=1}^N {{(y_i - \\mathbf{a}^T\\mathbf{x}_i)^2}}$ =  $\\frac{N}{2}\\ln ({2\\pi\\sigma^2}) +\\frac{1}{{2\\sigma^2}}R(\\mathbf{a})$"
   ]
  },
  {
   "cell_type": "markdown",
   "metadata": {
    "deletable": true,
    "editable": true
   },
   "source": [
    "$\\frac{\\partial}{\\partial\\sigma^2}$NLL$(\\boldsymbol{\\theta})= \\frac{\\partial}{\\partial\\sigma^2}(\\frac{N}{2}\\ln ({2\\pi\\sigma^2}) +\\frac{1}{{2\\sigma^2}}R(\\mathbf{a})) =\\frac{N}{2\\sigma^2} -\\frac{1}{{2\\sigma^4}}R(\\mathbf{a}) =0$"
   ]
  },
  {
   "cell_type": "markdown",
   "metadata": {
    "deletable": true,
    "editable": true
   },
   "source": [
    " $\\hat{\\sigma}^2=\\frac{1}{N}(\\mathbf{y}-\\mathbf{X}\\mathbf{a})^T (\\mathbf{y}-\\mathbf{X}\\mathbf{a})$ = $\\frac{N-2}{N}$MSE"
   ]
  },
  {
   "cell_type": "code",
   "execution_count": null,
   "metadata": {
    "collapsed": true,
    "deletable": true,
    "editable": true
   },
   "outputs": [],
   "source": []
  },
  {
   "cell_type": "markdown",
   "metadata": {
    "deletable": true,
    "editable": true
   },
   "source": [
    "## Maximum likelihood estimation using gradient-based optimization"
   ]
  },
  {
   "cell_type": "code",
   "execution_count": 57,
   "metadata": {
    "collapsed": true,
    "deletable": true,
    "editable": true
   },
   "outputs": [],
   "source": [
    "#   define a function to calculate the negative log likelihood\n",
    "def calcLogLikelihood(guess, true, n):\n",
    "    error = true-guess\n",
    "    sigma = (np.matmul(error.T,error))/n\n",
    "    \n",
    "    nlogf = n*0.5 * np.log(2.0*np.math.pi*sigma*sigma) + ((np.dot(error,error))/(2*sigma*sigma))\n",
    "\n",
    "    return nlogf"
   ]
  },
  {
   "cell_type": "code",
   "execution_count": 58,
   "metadata": {
    "collapsed": false,
    "deletable": true,
    "editable": true
   },
   "outputs": [],
   "source": [
    "#   define my function which will return the objective function to be minimized\n",
    "def myFunction(var,X,y):\n",
    "    yGuess = np.matmul(X,var)\n",
    "    f = calcLogLikelihood(yGuess, y, float(len(yGuess)))\n",
    "    return (f)"
   ]
  },
  {
   "cell_type": "code",
   "execution_count": 59,
   "metadata": {
    "collapsed": false,
    "deletable": true,
    "editable": true
   },
   "outputs": [
    {
     "name": "stdout",
     "output_type": "stream",
     "text": [
      "Optimization terminated successfully.\n",
      "         Current function value: 158.305757\n",
      "         Iterations: 5\n",
      "         Function evaluations: 48\n",
      "         Gradient evaluations: 12\n",
      "(2.6022349612524152, -0.72425122211493831)\n"
     ]
    },
    {
     "data": {
      "text/plain": [
       "<matplotlib.text.Text at 0x7f7be5ce87d0>"
      ]
     },
     "execution_count": 59,
     "metadata": {},
     "output_type": "execute_result"
    },
    {
     "data": {
      "image/png": "[encoded data removed]",
      "text/plain": [
       "<matplotlib.figure.Figure at 0x7f7be6061750>"
      ]
     },
     "metadata": {},
     "output_type": "display_data"
    }
   ],
   "source": [
    "nvar = 2\n",
    "var = np.zeros(nvar)\n",
    "var[0] = 4.5\n",
    "var[1] = -1.8\n",
    "\n",
    "X = np.vstack((np.ones_like(x),x)).T\n",
    "\n",
    "#   let's maximize the likelihood (minimize -1*max(likelihood)\n",
    "from scipy.optimize import minimize\n",
    "res = minimize(myFunction, var, args=(X,y), method='BFGS', options={'disp': True})\n",
    "a0_est_mle, a1_est_mle = res[\"x\"]\n",
    "print(a0_est_mle ,a1_est_mle)\n",
    "\n",
    "xxmle = np.arange(min(x)-3,max(x)+3)\n",
    "yymle = a1_est_mle *xxmle + a0_est_mle\n",
    "\n",
    "plt.scatter(x, y)\n",
    "plt.plot(xxmle,yymle,'b--')\n",
    "plt.plot(xxls,yyls,'g')\n",
    "plt.plot(xx,yy,'r')\n",
    "plt.xlabel('x')\n",
    "plt.ylabel('y')"
   ]
  },
  {
   "cell_type": "code",
   "execution_count": null,
   "metadata": {
    "collapsed": true,
    "deletable": true,
    "editable": true
   },
   "outputs": [],
   "source": []
  },
  {
   "cell_type": "markdown",
   "metadata": {
    "deletable": true,
    "editable": true
   },
   "source": [
    "### [Exercise 2] - methods for estimating parameters"
   ]
  },
  {
   "cell_type": "markdown",
   "metadata": {
    "collapsed": true,
    "deletable": true,
    "editable": true
   },
   "source": [
    "$a_2x^2 + a_1x +a_0=y$"
   ]
  },
  {
   "cell_type": "code",
   "execution_count": 7,
   "metadata": {
    "collapsed": false,
    "deletable": true,
    "editable": true
   },
   "outputs": [],
   "source": [
    "# Choose the \"true\" parameters.\n",
    "a2_true = 1.243\n",
    "a1_true = -0.9594\n",
    "a0_true = 4.294\n",
    "\n",
    "\n",
    "sigma = 10\n",
    "\n",
    "# Generate some synthetic data from the model.\n",
    "N = 100\n",
    "x = 10*np.random.rand(N)\n",
    "yerr = 0+ sigma*np.random.randn(N)\n",
    "y = a2_true*x**2 + a1_true*x + a0_true\n",
    "y +=yerr\n"
   ]
  },
  {
   "cell_type": "code",
   "execution_count": 8,
   "metadata": {
    "collapsed": false,
    "deletable": true,
    "editable": true
   },
   "outputs": [
    {
     "data": {
      "text/plain": [
       "<matplotlib.text.Text at 0x7f7bebaed790>"
      ]
     },
     "execution_count": 8,
     "metadata": {},
     "output_type": "execute_result"
    },
    {
     "data": {
      "image/png": "[encoded data removed]",
      "text/plain": [
       "<matplotlib.figure.Figure at 0x7f7bebae2750>"
      ]
     },
     "metadata": {},
     "output_type": "display_data"
    }
   ],
   "source": [
    "xx = np.arange(min(x)-2,max(x)+2)\n",
    "yy = a2_true*xx**2 + a1_true*xx + a0_true\n",
    "\n",
    "plt.scatter(x, y)\n",
    "plt.plot(xx,yy,'r')\n",
    "plt.xlabel('x')\n",
    "plt.ylabel('y')"
   ]
  },
  {
   "cell_type": "markdown",
   "metadata": {
    "deletable": true,
    "editable": true
   },
   "source": [
    "### 1) least square estimation 방법 이용"
   ]
  },
  {
   "cell_type": "code",
   "execution_count": 9,
   "metadata": {
    "collapsed": false,
    "deletable": true,
    "editable": true
   },
   "outputs": [
    {
     "name": "stdout",
     "output_type": "stream",
     "text": [
      "(1.3038316897293725, -1.4730210967892807, 6.0903588905279289)\n"
     ]
    }
   ],
   "source": [
    "X = np.vstack((np.ones_like(x),x,x**2)).T\n",
    "\n",
    "# 위의 식을 한번 작성해보세요\n",
    "#a = \n",
    "a = np.dot(np.matmul(np.linalg.inv(np.matmul(X.T,X)),X.T),y)\n",
    "\n",
    "\n",
    "a0_est_ls = a[0]\n",
    "a1_est_ls = a[1]\n",
    "a2_est_ls = a[2]\n",
    "print(a2_est_ls, a1_est_ls, a0_est_ls)"
   ]
  },
  {
   "cell_type": "code",
   "execution_count": 10,
   "metadata": {
    "collapsed": false,
    "deletable": true,
    "editable": true
   },
   "outputs": [
    {
     "data": {
      "text/plain": [
       "<matplotlib.text.Text at 0x7f7beb991c90>"
      ]
     },
     "execution_count": 10,
     "metadata": {},
     "output_type": "execute_result"
    },
    {
     "data": {
      "image/png": "[encoded data removed]",
      "text/plain": [
       "<matplotlib.figure.Figure at 0x7f7beb99d1d0>"
      ]
     },
     "metadata": {},
     "output_type": "display_data"
    }
   ],
   "source": [
    "xxls = np.arange(min(x)-2,max(x)+2)\n",
    "yyls = a2_est_ls * xxls**2 + a1_est_ls *xxls + a0_est_ls\n",
    "\n",
    "plt.scatter(x, y)\n",
    "plt.plot(xxls,yyls,'g')\n",
    "plt.plot(xx,yy,'r')\n",
    "plt.xlabel('x')\n",
    "plt.ylabel('y')"
   ]
  },
  {
   "cell_type": "markdown",
   "metadata": {
    "deletable": true,
    "editable": true
   },
   "source": [
    "### 2) MLE (gradient descent) 방법 이용"
   ]
  },
  {
   "cell_type": "code",
   "execution_count": 45,
   "metadata": {
    "collapsed": true,
    "deletable": true,
    "editable": true
   },
   "outputs": [],
   "source": [
    "#   define a function to calculate the log likelihood\n",
    "def calcLogLikelihood(guess, true, n):\n",
    "    error = true-guess\n",
    "    sigma = (np.matmul(error.T,error))/n\n",
    "        \n",
    "    logf = n * 0.5 * np.log(2.0*np.math.pi*sigma*sigma) + ((np.dot(error,error))/(2*sigma*sigma))\n",
    "\n",
    "    return logf"
   ]
  },
  {
   "cell_type": "code",
   "execution_count": 46,
   "metadata": {
    "collapsed": true,
    "deletable": true,
    "editable": true
   },
   "outputs": [],
   "source": [
    "#   define my function which will return the objective function to be minimized\n",
    "def myFunction(var,x,y):\n",
    "    yGuess = (var[2]*x**2) + (var[1]*x) + var[0]\n",
    "    f = calcLogLikelihood(yGuess, y, float(len(yGuess)))\n",
    "    return (1*f)"
   ]
  },
  {
   "cell_type": "code",
   "execution_count": 47,
   "metadata": {
    "collapsed": false,
    "deletable": true,
    "editable": true
   },
   "outputs": [
    {
     "name": "stdout",
     "output_type": "stream",
     "text": [
      "Optimization terminated successfully.\n",
      "         Current function value: 158.304559\n",
      "         Iterations: 9\n",
      "         Function evaluations: 100\n",
      "         Gradient evaluations: 20\n",
      "(2.5727154108538675, -0.70543132566032141, -0.001926174513929897)\n"
     ]
    },
    {
     "data": {
      "text/plain": [
       "<matplotlib.text.Text at 0x7f7be588a210>"
      ]
     },
     "execution_count": 47,
     "metadata": {},
     "output_type": "execute_result"
    },
    {
     "data": {
      "image/png": "[encoded data removed]",
      "text/plain": [
       "<matplotlib.figure.Figure at 0x7f7be5e8a7d0>"
      ]
     },
     "metadata": {},
     "output_type": "display_data"
    }
   ],
   "source": [
    "nvar = 3\n",
    "var = np.zeros(nvar)\n",
    "var[0] = 1.5\n",
    "var[1] = -1.8\n",
    "var[2] = 0.2\n",
    "\n",
    "X = np.vstack((np.ones_like(x),x, x**2)).T\n",
    "\n",
    "#   let's maximize the likelihood (minimize -1*max(likelihood)\n",
    "from scipy.optimize import minimize\n",
    "res = minimize(myFunction, var, args=(x,y), method='BFGS', options={'disp': True})\n",
    "a0_est_mle, a1_est_mle, a2_est_mle= res[\"x\"]\n",
    "print(a0_est_mle ,a1_est_mle, a2_est_mle)\n",
    "\n",
    "xxmle = np.arange(min(x)-3,max(x)+3)\n",
    "yymle = a2_est_mle*xxmle**2 + a1_est_mle *xxmle + a0_est_mle\n",
    "\n",
    "plt.scatter(x, y)\n",
    "plt.plot(xxmle,yymle,'b--')\n",
    "plt.plot(xxls,yyls,'g')\n",
    "plt.plot(xx,yy,'r')\n",
    "plt.xlabel('x')\n",
    "plt.ylabel('y')"
   ]
  },
  {
   "cell_type": "markdown",
   "metadata": {
    "collapsed": true,
    "deletable": true,
    "editable": true
   },
   "source": [
    "### Additional problem(or homework)\n",
    "\n",
    "위에 식에 Sigma도 집어넣어서 estimation 할 수 있을까?"
   ]
  },
  {
   "cell_type": "code",
   "execution_count": 36,
   "metadata": {
    "collapsed": false,
    "deletable": true,
    "editable": true
   },
   "outputs": [
    {
     "name": "stdout",
     "output_type": "stream",
     "text": [
      "Optimization terminated successfully.\n",
      "         Current function value: 167.271710\n",
      "         Iterations: 21\n",
      "         Function evaluations: 180\n",
      "         Gradient evaluations: 30\n",
      "      fun: 167.27170957851604\n",
      " hess_inv: array([[  1.04116973e+00,  -4.40118755e-01,   3.86697097e-02,\n",
      "         -1.75925342e-02],\n",
      "       [ -4.40118755e-01,   2.46340930e-01,  -2.42330147e-02,\n",
      "          9.49712864e-03],\n",
      "       [  3.86697097e-02,  -2.42330147e-02,   2.52671175e-03,\n",
      "         -9.88134387e-04],\n",
      "       [ -1.75925342e-02,   9.49712864e-03,  -9.88134387e-04,\n",
      "          4.79669227e-01]])\n",
      "      jac: array([  0.00000000e+00,   0.00000000e+00,   7.62939453e-06,\n",
      "         0.00000000e+00])\n",
      "  message: 'Optimization terminated successfully.'\n",
      "     nfev: 180\n",
      "      nit: 21\n",
      "     njev: 30\n",
      "   status: 0\n",
      "  success: True\n",
      "        x: array([  3.04136172,  -0.50787969,  -0.05070768,  10.80739966])\n",
      "(3.0413617160285096, -0.50787969020794832, -0.050707676380150092)\n"
     ]
    },
    {
     "data": {
      "text/plain": [
       "<matplotlib.text.Text at 0x7f7be5a959d0>"
      ]
     },
     "execution_count": 36,
     "metadata": {},
     "output_type": "execute_result"
    },
    {
     "data": {
      "image/png": "[encoded data removed]",
      "text/plain": [
       "<matplotlib.figure.Figure at 0x7f7be5cfeb50>"
      ]
     },
     "metadata": {},
     "output_type": "display_data"
    }
   ],
   "source": [
    "#   define a function to calculate the log likelihood\n",
    "def calcLogLikelihood(guess, true, n, sGuess):\n",
    "    error = true-guess\n",
    "    sigma = (np.matmul(error.T,error))/n\n",
    "    \n",
    "    logf = n * 0.5 * np.log(2.0*np.math.pi*sigma*sigma) + ((np.dot(error.T,error))/(2*sigma*sigma)) + 1*(sGuess-sigma)*(sGuess-sigma)\n",
    "\n",
    "    return logf\n",
    "\n",
    "#   define my function which will return the objective function to be minimized\n",
    "def myFunction(var,x,y):\n",
    "    yGuess = (var[2]*x**2) + (var[1]*x) + var[0]\n",
    "    f = calcLogLikelihood(yGuess, y, float(len(yGuess)), var[3])\n",
    "    return (1*f)\n",
    "\n",
    "nvar = 3+1\n",
    "var = np.zeros(nvar)\n",
    "var[0] = 1.5\n",
    "var[1] = -1.8\n",
    "var[2] = 0.2\n",
    "var[3] = 1\n",
    "\n",
    "X = np.vstack((np.ones_like(x),x, x**2)).T\n",
    "\n",
    "#   let's maximize the likelihood (minimize -1*max(likelihood)\n",
    "from scipy.optimize import minimize\n",
    "res = minimize(myFunction, var, args=(x,y), method='BFGS', options={'disp': True})\n",
    "print(res)\n",
    "a0_est_mle, a1_est_mle, a2_est_mle, sigma_est_mle = res[\"x\"]\n",
    "print(a0_est_mle ,a1_est_mle, a2_est_mle)\n",
    "\n",
    "xxmle = np.arange(min(x)-3,max(x)+3)\n",
    "yymle = a2_est_mle*xxmle**2 + a1_est_mle *xxmle + a0_est_mle\n",
    "\n",
    "plt.scatter(x, y)\n",
    "plt.plot(xxmle,yymle,'b--')\n",
    "plt.plot(xxls,yyls,'g')\n",
    "plt.plot(xx,yy,'r')\n",
    "plt.xlabel('x')\n",
    "plt.ylabel('y')"
   ]
  },
  {
   "cell_type": "code",
   "execution_count": null,
   "metadata": {
    "collapsed": true,
    "deletable": true,
    "editable": true
   },
   "outputs": [],
   "source": []
  }
 ],
 "metadata": {
  "kernelspec": {
   "display_name": "Python 2",
   "language": "python",
   "name": "python2"
  },
  "language_info": {
   "codemirror_mode": {
    "name": "ipython",
    "version": 2
   },
   "file_extension": ".py",
   "mimetype": "text/x-python",
   "name": "python",
   "nbconvert_exporter": "python",
   "pygments_lexer": "ipython2",
   "version": "2.7.6"
  }
 },
 "nbformat": 4,
 "nbformat_minor": 2
}
